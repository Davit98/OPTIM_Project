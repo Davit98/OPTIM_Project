{
 "cells": [
  {
   "cell_type": "code",
   "execution_count": 1,
   "metadata": {
    "collapsed": true
   },
   "outputs": [],
   "source": [
    "import numpy as np"
   ]
  },
  {
   "cell_type": "code",
   "execution_count": 2,
   "metadata": {
    "collapsed": true
   },
   "outputs": [],
   "source": [
    "# Book's example\n",
    "A = 'ABCBDAB'\n",
    "B = 'BDCABA'\n",
    "\n",
    "# Wikipedia's example (https://en.wikipedia.org/wiki/Needleman%E2%80%93Wunsch_algorithm)\n",
    "X = 'GATTACA'\n",
    "Y = 'GCATGCU'\n",
    "\n",
    "# Another test taken from 'https://webdocs.cs.ualberta.ca/~games/alignment/'\n",
    "S1 = 'GTGACTGCGATAAGCTTAGATCCTCTTAAAAT'\n",
    "S2 = 'GAGGGAGACATGCGATACAAGGGATCCTTGTAGATCTGCGTCTTTAA'"
   ]
  },
  {
   "cell_type": "code",
   "execution_count": 3,
   "metadata": {},
   "outputs": [
    {
     "name": "stdout",
     "output_type": "stream",
     "text": [
      "['C', 'B', 'BC', 'A', 'AC', 'AB', 'ABC']\n"
     ]
    }
   ],
   "source": [
    "## Complexity = O(n*2^n), where n = len(S)\n",
    "def find_all_subsequences(S):\n",
    "    l = []\n",
    "    for e in range (1,2**len(S)):\n",
    "        x = ''\n",
    "        b = format(e, '#0' + str(len(S)+2) + 'b')\n",
    "        for i in range(2,len(b)):\n",
    "            if b[i] == '1':\n",
    "                x += S[i-2]\n",
    "        l.append(x)\n",
    "    return l\n",
    "# testing the function\n",
    "print(find_all_subsequences('ABC'))"
   ]
  },
  {
   "cell_type": "code",
   "execution_count": 4,
   "metadata": {},
   "outputs": [
    {
     "name": "stdout",
     "output_type": "stream",
     "text": [
      "4\n",
      "4\n"
     ]
    }
   ],
   "source": [
    "## Complexity = O(n*2^n) + O(2^n*n) = O(n*2^n), where n = len(S)\n",
    "def exponential_LCS(A,B):\n",
    "    if len(A)>len(B):\n",
    "        s = find_all_subsequences(B) \n",
    "        S = A\n",
    "    else:\n",
    "        s = find_all_subsequences(A)\n",
    "        S = B\n",
    "    lcm = ''\n",
    "    for elem in s:\n",
    "        if is_subsequence(elem,S):\n",
    "            if len(lcm)<len(elem):\n",
    "                lcm = elem\n",
    "    return len(lcm)\n",
    "\n",
    "def is_subsequence(str1,str2): ## O(len(n)), n = len(str2)\n",
    "    m = len(str1)\n",
    "    n = len(str2)\n",
    "    if m==0:\n",
    "        return True\n",
    "    if n==0:\n",
    "        return False\n",
    "    if str1[m-1]==str2[n-1]:\n",
    "        return is_subsequence(str1[0:m-1],str2[0:n-1])\n",
    "    else:\n",
    "        return is_subsequence(str1,str2[0:n-1])\n",
    "# testing the function\n",
    "print(exponential_LCS(A,B))\n",
    "print(exponential_LCS(X,Y))"
   ]
  },
  {
   "cell_type": "code",
   "execution_count": 5,
   "metadata": {},
   "outputs": [
    {
     "name": "stdout",
     "output_type": "stream",
     "text": [
      "4\n",
      "4\n"
     ]
    }
   ],
   "source": [
    "def naive_recursive_LCS(A,B):\n",
    "    if len(A)==0 or len(B)==0:\n",
    "        return 0\n",
    "    elif len(A)>0 and len(B)>0:\n",
    "        if A[len(A)-1] == B[len(B)-1]:\n",
    "            return 1 + naive_recursive_LCS(A[0:len(A)-1],B[0:len(B)-1])\n",
    "        else:\n",
    "            return max(naive_recursive_LCS(A,B[0:len(B)-1]),naive_recursive_LCS(A[0:len(A)-1],B))\n",
    "# testing the function\n",
    "print(naive_recursive_LCS(A,B))\n",
    "print(naive_recursive_LCS(X,Y))"
   ]
  },
  {
   "cell_type": "raw",
   "metadata": {
    "collapsed": true
   },
   "source": [
    "naive_recursive_LCS(S1,S2) # not working in this case better not run as the sequneces are long enough :) "
   ]
  },
  {
   "cell_type": "code",
   "execution_count": 6,
   "metadata": {},
   "outputs": [
    {
     "name": "stdout",
     "output_type": "stream",
     "text": [
      "4\n",
      "4\n",
      "28\n"
     ]
    }
   ],
   "source": [
    "def recursive_LCS_memoized(A,B):\n",
    "    m = len(A)\n",
    "    n = len(B)\n",
    "    l = -np.ones((m+1,n+1),dtype=int)\n",
    "    l[0,1:] = np.zeros(n,dtype=int)\n",
    "    l[:,0] = np.zeros(m+1,dtype=int)\n",
    "    return LCS_aux(A,B,l)\n",
    "    \n",
    "def LCS_aux(A,B,l):\n",
    "    if l[len(A)][len(B)]!=-1:\n",
    "        return l[len(A)][len(B)]\n",
    "    else:\n",
    "        if A[len(A)-1] == B[len(B)-1]:\n",
    "            res = 1 + LCS_aux(A[0:len(A)-1],B[0:len(B)-1],l)\n",
    "            l[len(A)][len(B)] = res\n",
    "        else:\n",
    "            a = LCS_aux(A,B[0:len(B)-1],l)\n",
    "            b = LCS_aux(A[0:len(A)-1],B,l)\n",
    "            if a>b:\n",
    "                res = a\n",
    "                l[len(A)][len(B)-1] = res\n",
    "            else:\n",
    "                res = b\n",
    "                l[len(A)-1][len(B)] = res\n",
    "        return res\n",
    "# testing the function\n",
    "print(recursive_LCS_memoized(A,B))\n",
    "print(recursive_LCS_memoized(X,Y))\n",
    "print(recursive_LCS_memoized(S1,S2))"
   ]
  },
  {
   "cell_type": "code",
   "execution_count": 7,
   "metadata": {
    "collapsed": true
   },
   "outputs": [],
   "source": [
    "def bottom_up_LCS_memoized(A,B):\n",
    "    m = len(A)\n",
    "    n = len(B)\n",
    "    direc = np.empty((m+1,n+1),dtype=np.str)\n",
    "    p = np.empty((m+1,n+1),dtype=np.str)\n",
    "    l = np.zeros((m+1,n+1),dtype=int)\n",
    "    for i in range(1,m+1):\n",
    "        for j in range(1,n+1):\n",
    "            if A[i-1]==B[j-1]:\n",
    "                l[i][j] = l[i-1][j-1] + 1\n",
    "                p[i][j] = \"L\" # L stands for Up and left\n",
    "                direc[i][j] = '\\u2196'\n",
    "            elif l[i-1][j]<l[i][j-1]:\n",
    "                l[i][j] = l[i][j-1] \n",
    "                p[i][j] = \"l\"  # l stands for left\n",
    "                direc[i][j] = '\\u2190'\n",
    "            elif l[i-1][j]>=l[i][j-1]:\n",
    "                l[i][j] = l[i-1][j] \n",
    "                p[i][j] = \"u\"  # u stands for Up\n",
    "                direc[i][j] = '\\u2191'\n",
    "    return (l,p,direc)"
   ]
  },
  {
   "cell_type": "code",
   "execution_count": 8,
   "metadata": {
    "collapsed": true
   },
   "outputs": [],
   "source": [
    "l,p,d = bottom_up_LCS_memoized(A,B)"
   ]
  },
  {
   "cell_type": "code",
   "execution_count": 9,
   "metadata": {},
   "outputs": [
    {
     "name": "stdout",
     "output_type": "stream",
     "text": [
      "[[0 0 0 0 0 0 0]\n",
      " [0 0 0 0 1 1 1]\n",
      " [0 1 1 1 1 2 2]\n",
      " [0 1 1 2 2 2 2]\n",
      " [0 1 1 2 2 3 3]\n",
      " [0 1 2 2 2 3 3]\n",
      " [0 1 2 2 3 3 4]\n",
      " [0 1 2 2 3 4 4]]\n"
     ]
    }
   ],
   "source": [
    "print(l)"
   ]
  },
  {
   "cell_type": "code",
   "execution_count": 10,
   "metadata": {},
   "outputs": [
    {
     "name": "stdout",
     "output_type": "stream",
     "text": [
      "[['' '' '' '' '' '' '']\n",
      " ['' '↑' '↑' '↑' '↖' '←' '↖']\n",
      " ['' '↖' '←' '←' '↑' '↖' '←']\n",
      " ['' '↑' '↑' '↖' '←' '↑' '↑']\n",
      " ['' '↖' '↑' '↑' '↑' '↖' '←']\n",
      " ['' '↑' '↖' '↑' '↑' '↑' '↑']\n",
      " ['' '↑' '↑' '↑' '↖' '↑' '↖']\n",
      " ['' '↖' '↑' '↑' '↑' '↖' '↑']]\n"
     ]
    }
   ],
   "source": [
    "print(d)"
   ]
  },
  {
   "cell_type": "code",
   "execution_count": 11,
   "metadata": {
    "collapsed": true
   },
   "outputs": [],
   "source": [
    "def print_LCS(p,A,i,j):\n",
    "    if i==0 or j==0:\n",
    "        return\n",
    "    if p[i][j] == 'L':\n",
    "        print_LCS(p,A,i-1,j-1)\n",
    "        print(A[i-1],end='')\n",
    "    elif p[i][j] == 'u':\n",
    "        print_LCS(p,A,i-1,j)\n",
    "    else:\n",
    "        print_LCS(p,A,i,j-1)"
   ]
  },
  {
   "cell_type": "code",
   "execution_count": 12,
   "metadata": {},
   "outputs": [
    {
     "name": "stdout",
     "output_type": "stream",
     "text": [
      "BCBA"
     ]
    }
   ],
   "source": [
    "print_LCS(p,A,len(A),len(B))"
   ]
  },
  {
   "cell_type": "code",
   "execution_count": 13,
   "metadata": {},
   "outputs": [
    {
     "name": "stdout",
     "output_type": "stream",
     "text": [
      "GATC"
     ]
    }
   ],
   "source": [
    "l,p,_ = bottom_up_LCS_memoized(X,Y)\n",
    "print_LCS(p,X,len(X),len(Y))"
   ]
  },
  {
   "cell_type": "code",
   "execution_count": 14,
   "metadata": {},
   "outputs": [
    {
     "name": "stdout",
     "output_type": "stream",
     "text": [
      "GGACTGCGATAAGCTTAGATCCTCTTAA"
     ]
    }
   ],
   "source": [
    "l,p,_ = bottom_up_LCS_memoized(S1,S2)\n",
    "print_LCS(p,S1,len(S1),len(S2))"
   ]
  },
  {
   "cell_type": "code",
   "execution_count": 15,
   "metadata": {
    "collapsed": true
   },
   "outputs": [],
   "source": [
    "l1 = []\n",
    "l2 = []\n",
    "def print_best_alignment(p,A,B,i,j):\n",
    "    if i==0 or j==0:\n",
    "        if i==0 and j==0:\n",
    "            pass\n",
    "        elif i==0:\n",
    "            l2.append(B[j-1])\n",
    "            l1.append('-')\n",
    "        elif j==0:\n",
    "            l1.append(A[i-1])\n",
    "            l2.append('-')\n",
    "        return\n",
    "    if p[i][j] == 'L':\n",
    "        print_best_alignment(p,A,B,i-1,j-1)\n",
    "        l1.append(A[i-1])\n",
    "        l2.append(B[j-1])\n",
    "    elif p[i][j] == 'u':\n",
    "        print_best_alignment(p,A,B,i-1,j)\n",
    "        l1.append(A[i-1])\n",
    "        l2.append('-')\n",
    "    else:\n",
    "        print_best_alignment(p,A,B,i,j-1)\n",
    "        l1.append('-')\n",
    "        l2.append(B[j-1])"
   ]
  },
  {
   "cell_type": "code",
   "execution_count": 16,
   "metadata": {},
   "outputs": [
    {
     "name": "stdout",
     "output_type": "stream",
     "text": [
      "-G-TGAC-TGCGAT--AA--G---C-T-TAGATC--C-TC-TTAAAAT\n",
      "GGA-GACATGCGATACAAGGGATCCTTGTAGATCTGCGTCTTT--AA-\n"
     ]
    }
   ],
   "source": [
    "print_best_alignment(p,S1,S2,len(S1),len(S2))\n",
    "str1 = ''.join(l1)\n",
    "str2 = ''.join(l2)\n",
    "print(str1)\n",
    "print(str2)\n",
    "l1=[]\n",
    "l2=[]"
   ]
  },
  {
   "cell_type": "code",
   "execution_count": 17,
   "metadata": {
    "collapsed": true
   },
   "outputs": [],
   "source": [
    "def bottom_up_LCS_memoized_with_scoring(A,B,match=1,mismatch=-1,gap=-1):\n",
    "    m = len(A)\n",
    "    n = len(B)\n",
    "    direc = np.empty((m+1,n+1),dtype=np.str)\n",
    "    p = np.empty((m+1,n+1),dtype=np.str)\n",
    "    l = np.zeros((m+1,n+1),dtype=int)\n",
    "    l[0,1:] = np.array([gap*i for i in range(1,n+1)],dtype=int)\n",
    "    l[:,0] = np.array([gap*i for i in range(m+1)],dtype=int)\n",
    "    for i in range(1,m+1):\n",
    "        for j in range(1,n+1):\n",
    "            if A[i-1]==B[j-1]:\n",
    "                l[i][j] = l[i-1][j-1] + match\n",
    "                p[i][j] = 'L'  \n",
    "                direc[i][j] = '\\u2196'\n",
    "            else:\n",
    "                if l[i-1][j-1] + mismatch > max(l[i][j-1] + gap,l[i-1][j] + gap):\n",
    "                    l[i][j] = l[i-1][j-1] + mismatch\n",
    "                    p[i][j] = 'L'\n",
    "                    direc[i][j] = '\\u2196'\n",
    "                else:\n",
    "                    if l[i][j-1] > l[i-1][j]:\n",
    "                        l[i][j] = l[i][j-1] + gap\n",
    "                        p[i][j] = 'l'\n",
    "                        direc[i][j] = '\\u2190'\n",
    "                        \n",
    "                    else:\n",
    "                        l[i][j] = l[i-1][j] + gap\n",
    "                        p[i][j] = 'u' \n",
    "                        direc[i][j] = '\\u2191'\n",
    "    return (l,p,direc)"
   ]
  },
  {
   "cell_type": "code",
   "execution_count": 18,
   "metadata": {
    "collapsed": true
   },
   "outputs": [],
   "source": [
    "l,p,d = bottom_up_LCS_memoized_with_scoring(X,Y)"
   ]
  },
  {
   "cell_type": "code",
   "execution_count": 19,
   "metadata": {},
   "outputs": [
    {
     "name": "stdout",
     "output_type": "stream",
     "text": [
      "[[ 0 -1 -2 -3 -4 -5 -6 -7]\n",
      " [-1  1  0 -1 -2 -3 -4 -5]\n",
      " [-2  0  0  1  0 -1 -2 -3]\n",
      " [-3 -1 -1  0  2  1  0 -1]\n",
      " [-4 -2 -2 -1  1  1  0 -1]\n",
      " [-5 -3 -3 -1  0  0  0 -1]\n",
      " [-6 -4 -2 -2 -1 -1  1  0]\n",
      " [-7 -5 -3 -1 -2 -2  0  0]]\n"
     ]
    }
   ],
   "source": [
    "# check wikipedia \"https://en.wikipedia.org/wiki/Needleman%E2%80%93Wunsch_algorithm\" to see that we got right!\n",
    "print(l)"
   ]
  },
  {
   "cell_type": "code",
   "execution_count": 20,
   "metadata": {},
   "outputs": [
    {
     "name": "stdout",
     "output_type": "stream",
     "text": [
      "[['' '' '' '' '' '' '' '']\n",
      " ['' '↖' '←' '←' '←' '↖' '←' '←']\n",
      " ['' '↑' '↖' '↖' '←' '←' '←' '←']\n",
      " ['' '↑' '↑' '↑' '↖' '←' '←' '←']\n",
      " ['' '↑' '↑' '↑' '↖' '↖' '←' '←']\n",
      " ['' '↑' '↑' '↖' '↑' '↑' '↖' '←']\n",
      " ['' '↑' '↖' '↑' '↑' '↑' '↖' '←']\n",
      " ['' '↑' '↑' '↖' '↑' '↑' '↑' '↖']]\n"
     ]
    }
   ],
   "source": [
    "print(d)"
   ]
  },
  {
   "cell_type": "code",
   "execution_count": 21,
   "metadata": {
    "collapsed": true
   },
   "outputs": [],
   "source": [
    "l,p,_ = bottom_up_LCS_memoized_with_scoring(\"TCATA\",\"TCCTA\",match=5,mismatch=-1,gap=-2)"
   ]
  },
  {
   "cell_type": "code",
   "execution_count": 22,
   "metadata": {},
   "outputs": [
    {
     "name": "stdout",
     "output_type": "stream",
     "text": [
      "[[  0  -2  -4  -6  -8 -10]\n",
      " [ -2   5   3   1  -1  -3]\n",
      " [ -4   3  10   8   6   4]\n",
      " [ -6   1   8   9   7  11]\n",
      " [ -8  -1   6   7  14  12]\n",
      " [-10  -3   4   5  12  19]]\n"
     ]
    }
   ],
   "source": [
    "# Check this \"https://www.youtube.com/watch?v=aD4Cc4L3qW0\" video's example to see that we got right \n",
    "print(l)"
   ]
  },
  {
   "cell_type": "code",
   "execution_count": 23,
   "metadata": {
    "collapsed": true
   },
   "outputs": [],
   "source": [
    "l,p,_ = bottom_up_LCS_memoized_with_scoring(A,B,match=1,mismatch=0,gap=0) # this is equiavlent to just finding LCS :)"
   ]
  },
  {
   "cell_type": "code",
   "execution_count": 24,
   "metadata": {},
   "outputs": [
    {
     "name": "stdout",
     "output_type": "stream",
     "text": [
      "[[0 0 0 0 0 0 0]\n",
      " [0 0 0 0 1 1 1]\n",
      " [0 1 1 1 1 2 2]\n",
      " [0 1 1 2 2 2 2]\n",
      " [0 1 1 2 2 3 3]\n",
      " [0 1 2 2 2 3 3]\n",
      " [0 1 2 2 3 3 4]\n",
      " [0 1 2 2 3 4 4]]\n"
     ]
    }
   ],
   "source": [
    "print(l)"
   ]
  },
  {
   "cell_type": "code",
   "execution_count": 26,
   "metadata": {
    "collapsed": true
   },
   "outputs": [],
   "source": [
    "l,p,d = bottom_up_LCS_memoized_with_scoring(S1,S2)"
   ]
  },
  {
   "cell_type": "code",
   "execution_count": 27,
   "metadata": {},
   "outputs": [
    {
     "name": "stdout",
     "output_type": "stream",
     "text": [
      "[[  0  -1  -2 ..., -45 -46 -47]\n",
      " [ -1   1   0 ..., -43 -44 -45]\n",
      " [ -2   0   0 ..., -41 -42 -43]\n",
      " ..., \n",
      " [-30 -28 -26 ...,   5   7   9]\n",
      " [-31 -29 -27 ...,   4   6   8]\n",
      " [-32 -30 -28 ...,   5   5   7]]\n"
     ]
    }
   ],
   "source": [
    "print(l)"
   ]
  },
  {
   "cell_type": "code",
   "execution_count": 28,
   "metadata": {},
   "outputs": [
    {
     "name": "stdout",
     "output_type": "stream",
     "text": [
      "[['' '' '' ..., '' '' '']\n",
      " ['' '↖' '←' ..., '←' '←' '←']\n",
      " ['' '↑' '↖' ..., '↖' '←' '←']\n",
      " ..., \n",
      " ['' '↑' '↖' ..., '↑' '↖' '↖']\n",
      " ['' '↑' '↖' ..., '↑' '↖' '↖']\n",
      " ['' '↑' '↑' ..., '↖' '↑' '↑']]\n"
     ]
    }
   ],
   "source": [
    "print(d)"
   ]
  },
  {
   "cell_type": "code",
   "execution_count": 29,
   "metadata": {},
   "outputs": [
    {
     "name": "stdout",
     "output_type": "stream",
     "text": [
      "GT----GAC-TGCGAT--AA--G---C-T-TAGATC--C-TCTTAAAAT\n",
      "GAGGGAGACATGCGATACAAGGGATCCTTGTAGATCTGCGTCTTT-AA-\n"
     ]
    }
   ],
   "source": [
    "# different alignment in this case for these two sequences as now mismatch=gap=-1 and not 0\n",
    "print_best_alignment(p,S1,S2,len(S1),len(S2))\n",
    "str1 = ''.join(l1)\n",
    "str2 = ''.join(l2)\n",
    "print(str1)\n",
    "print(str2)\n",
    "l1=[]\n",
    "l2=[]"
   ]
  },
  {
   "cell_type": "code",
   "execution_count": null,
   "metadata": {
    "collapsed": true
   },
   "outputs": [],
   "source": []
  },
  {
   "cell_type": "code",
   "execution_count": null,
   "metadata": {
    "collapsed": true
   },
   "outputs": [],
   "source": []
  }
 ],
 "metadata": {
  "kernelspec": {
   "display_name": "Python 3",
   "language": "python",
   "name": "python3"
  },
  "language_info": {
   "codemirror_mode": {
    "name": "ipython",
    "version": 3
   },
   "file_extension": ".py",
   "mimetype": "text/x-python",
   "name": "python",
   "nbconvert_exporter": "python",
   "pygments_lexer": "ipython3",
   "version": "3.6.3"
  }
 },
 "nbformat": 4,
 "nbformat_minor": 2
}
