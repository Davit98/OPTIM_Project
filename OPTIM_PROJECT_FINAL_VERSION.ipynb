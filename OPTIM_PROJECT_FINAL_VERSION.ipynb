{
 "cells": [
  {
   "cell_type": "markdown",
   "metadata": {},
   "source": [
    "# Biological Sequence Alignment"
   ]
  },
  {
   "cell_type": "markdown",
   "metadata": {},
   "source": [
    "In this notebook, you can find implementations of several algorithms for finding a **longest common subsequence** of two strings of arbitrary lengths as well as the bottom-up implementation of **Needleman-Wunsch algorithm**. We present first simple algorithms, gradually getting to more complicated (and efficeint) ones."
   ]
  },
  {
   "cell_type": "code",
   "execution_count": 7,
   "metadata": {
    "collapsed": true
   },
   "outputs": [],
   "source": [
    "import numpy as np"
   ]
  },
  {
   "cell_type": "code",
   "execution_count": 8,
   "metadata": {
    "collapsed": true
   },
   "outputs": [],
   "source": [
    "# Test example #1\n",
    "A = 'ABCBDAB'\n",
    "B = 'BDCABA'\n",
    "\n",
    "# Test example #2 (taken from Wikipedia (https://en.wikipedia.org/wiki/Needleman%E2%80%93Wunsch_algorithm))\n",
    "X = 'GATTACA'\n",
    "Y = 'GCATGCU'\n",
    "\n",
    "# Test example #3\n",
    "S1 = 'GTGACTGCGATAAGCTTAGATCCTCTTAAAAT'\n",
    "S2 = 'GAGGGAGACATGCGATACAAGGGATCCTTGTAGATCTGCGTCTTTAA'"
   ]
  },
  {
   "cell_type": "markdown",
   "metadata": {},
   "source": [
    "### Longest Common Subsequence "
   ]
  },
  {
   "cell_type": "markdown",
   "metadata": {},
   "source": [
    "As mentioned above we start with the simplest, at the same time the least efficient algorithm. Our first algorithm for finding LCS of two sequences does the following: it finds all possible subsequences of one the two sequences and checks one-by-one to see whether a subsequence of that sequence is also a subsequence of the other sequence, keeping track of the longest subsequence found.\n",
    "\n",
    "For finding all possible subsequences of a sequence (except empty set, that is not interesting for us) we use a bitmask i.e. we run from **1** to **2^n** in binary and do bitwise **and** operation with our original string. In other words we take characters that have **1** in the corresponding index in bitmask and omit the characters in the case of **0**."
   ]
  },
  {
   "cell_type": "code",
   "execution_count": 9,
   "metadata": {
    "collapsed": true
   },
   "outputs": [],
   "source": [
    "## Complexity = O(n*2^n), where n = len(S)\n",
    "def find_all_subsequences(S):\n",
    "    l = [] # empty list that will be returned full of subsequences (except the empty set)\n",
    "    for e in range (1,2**len(S)):# e is the decimal number that runs from 1 to 2 to the power of length of the S\n",
    "        x = ''\n",
    "        b = format(e, '#0' + str(len(S)+2) + 'b')# this line of code converts e to a corresponding binary number\n",
    "        for i in range(2,len(b)):\n",
    "            if b[i] == '1': \n",
    "                x += S[i-2] # if the i'th index of binary is 1 then the char of S at index i is appended to x\n",
    "        l.append(x)\n",
    "    return l"
   ]
  },
  {
   "cell_type": "code",
   "execution_count": 10,
   "metadata": {},
   "outputs": [
    {
     "name": "stdout",
     "output_type": "stream",
     "text": [
      "['C', 'B', 'BC', 'A', 'AC', 'AB', 'ABC']\n"
     ]
    }
   ],
   "source": [
    "# testing our function\n",
    "print(find_all_subsequences('ABC'))"
   ]
  },
  {
   "cell_type": "markdown",
   "metadata": {},
   "source": [
    "Now let's understand why the complexity of our function **find_all_subsequences()** is **O(n*2^n).** This is because we have two nested for loops: one runs **2^n-1** times and the other one **n**, thus making **n*2^n-1** operations, i.e. our function's running time is **O(n*2^n).**"
   ]
  },
  {
   "cell_type": "code",
   "execution_count": 11,
   "metadata": {
    "collapsed": true
   },
   "outputs": [],
   "source": [
    "## Complexity = O(n*2^n) + O(2^m*m), where n = len(A), m = len(B)\n",
    "def exponential_LCS(A,B):\n",
    "    x = set(find_all_subsequences(A)) # creating set containing all subsequences of the first string\n",
    "    y = set(find_all_subsequences(B)) # creating set containing all subsequences of the second string\n",
    "    z = x.intersection(y) # intersecting the above two to be left with only common subsequences\n",
    "    l = 0\n",
    "    LCS = \"\"\n",
    "    for each in z: # running over the set of common subsequences to find the one with max length\n",
    "        if len(each) > l: \n",
    "            l = len(each)\n",
    "            LCS = each\n",
    "    return LCS"
   ]
  },
  {
   "cell_type": "code",
   "execution_count": 12,
   "metadata": {},
   "outputs": [
    {
     "name": "stdout",
     "output_type": "stream",
     "text": [
      "BCAB\n"
     ]
    }
   ],
   "source": [
    "# testing our function\n",
    "# we do not recommend to test this function for long sequences because it has exponential running time :)\n",
    "print(exponential_LCS(A,B))"
   ]
  },
  {
   "cell_type": "markdown",
   "metadata": {},
   "source": [
    "Bellow you can find the same algorithm with some improvements in terms of running time."
   ]
  },
  {
   "cell_type": "code",
   "execution_count": 13,
   "metadata": {
    "collapsed": true
   },
   "outputs": [],
   "source": [
    "## Complexity = O(n*2^n) + O(2^n*n) = O(n*2^n), where n = len(S)\n",
    "def exponential_LCS_b(A,B):\n",
    "    if len(A)>len(B):\n",
    "        s = find_all_subsequences(B) \n",
    "        S = A\n",
    "    else:\n",
    "        s = find_all_subsequences(A)\n",
    "        S = B\n",
    "    lcm = ''\n",
    "    for elem in s:\n",
    "        if is_subsequence(elem,S):\n",
    "            if len(lcm)<len(elem):\n",
    "                lcm = elem\n",
    "    return lcm\n",
    "\n",
    "# This function checks if str1 is a subsequence of str2 or not\n",
    "def is_subsequence(str1,str2): ## O(n), n = len(str2)\n",
    "    m = len(str1)\n",
    "    n = len(str2)\n",
    "    if m==0:\n",
    "        return True\n",
    "    if n==0:\n",
    "        return False\n",
    "    if str1[m-1]==str2[n-1]:\n",
    "        return is_subsequence(str1[0:m-1],str2[0:n-1])\n",
    "    else:\n",
    "        return is_subsequence(str1,str2[0:n-1])"
   ]
  },
  {
   "cell_type": "code",
   "execution_count": 14,
   "metadata": {},
   "outputs": [
    {
     "name": "stdout",
     "output_type": "stream",
     "text": [
      "BCBA\n",
      "GATC\n"
     ]
    }
   ],
   "source": [
    "# testing the function\n",
    "print(exponential_LCS_b(A,B)) # As you can see here we got 'BCBA' but the result obtained form the other exponential \n",
    "# LCS function was 'BDAB'. This is not surprising because two sequences can have more than one longest common \n",
    "# subsequence and depending one the nature of the function results can be different :)\n",
    "print(exponential_LCS_b(X,Y))"
   ]
  },
  {
   "cell_type": "markdown",
   "metadata": {},
   "source": [
    "Below you can find a recursive approach to finding a longest common subsequence of two strings. We named this recursive algorithm **naive**_recursive_LCS because its worst case running time is exponential: if we have strings of lengths **m** and **n** then the complexity is **O(2^(n+m))**. The idea behind such a running time is that during each recursive step, in the worst case, we call the same function twice decreasing the length of one of the strings by just one. "
   ]
  },
  {
   "cell_type": "code",
   "execution_count": 15,
   "metadata": {
    "collapsed": true
   },
   "outputs": [],
   "source": [
    "def naive_recursive_LCS(A,B):\n",
    "    if len(A)==0 or len(B)==0:\n",
    "        return \"\"\n",
    "    elif len(A)>0 and len(B)>0:\n",
    "        if A[len(A)-1] == B[len(B)-1]:\n",
    "            return naive_recursive_LCS(A[0:len(A)-1],B[0:len(B)-1]) + A[len(A)-1]\n",
    "        else:\n",
    "            x = naive_recursive_LCS(A,B[0:len(B)-1])\n",
    "            y = naive_recursive_LCS(A[0:len(A)-1],B)\n",
    "            if len(x) > len (y):\n",
    "                return x\n",
    "            else:\n",
    "                return y"
   ]
  },
  {
   "cell_type": "code",
   "execution_count": 16,
   "metadata": {},
   "outputs": [
    {
     "name": "stdout",
     "output_type": "stream",
     "text": [
      "BCBA\n"
     ]
    }
   ],
   "source": [
    "# testing our function\n",
    "print(naive_recursive_LCS(A,B))"
   ]
  },
  {
   "cell_type": "markdown",
   "metadata": {},
   "source": [
    "The function below is the implementation of the recursive LCS using memoization techniques which significantly improves the running time. It transforms exponential-time recursive solution to a polynomial-time solution. In this case, the running time is **O(m*n)** as we have **n*m** distinct subproblems and we solve each subproblem just once by keeping a matrix of size **(m+1) * (n+1)** (where m and n stand for the sizes of the input strings A and B correspondingly). This function only returns the length of a longest common subsequence. For printing the longest common subsequence found by the function we need another function. We will do it for bottom-up approach, since we prefer it more :)"
   ]
  },
  {
   "cell_type": "code",
   "execution_count": 17,
   "metadata": {
    "collapsed": true
   },
   "outputs": [],
   "source": [
    "def recursive_LCS_memoized(A,B):\n",
    "    m = len(A)\n",
    "    n = len(B)\n",
    "    l = -np.ones((m+1,n+1),dtype=int) \n",
    "    l[0,1:] = np.zeros(n,dtype=int)\n",
    "    l[:,0] = np.zeros(m+1,dtype=int)\n",
    "    return LCS_aux(A,B,l)\n",
    "    \n",
    "def LCS_aux(A,B,l):\n",
    "    if l[len(A)][len(B)]!=-1:\n",
    "        return l[len(A)][len(B)]\n",
    "    else:\n",
    "        if A[len(A)-1] == B[len(B)-1]:\n",
    "            res = 1 + LCS_aux(A[0:len(A)-1],B[0:len(B)-1],l)\n",
    "            l[len(A)][len(B)] = res\n",
    "        else:\n",
    "            a = LCS_aux(A,B[0:len(B)-1],l)\n",
    "            b = LCS_aux(A[0:len(A)-1],B,l)\n",
    "            if a>b:\n",
    "                res = a\n",
    "                l[len(A)][len(B)-1] = res\n",
    "            else:\n",
    "                res = b\n",
    "                l[len(A)-1][len(B)] = res\n",
    "        return res"
   ]
  },
  {
   "cell_type": "code",
   "execution_count": 18,
   "metadata": {},
   "outputs": [
    {
     "name": "stdout",
     "output_type": "stream",
     "text": [
      "4\n",
      "4\n",
      "28\n"
     ]
    }
   ],
   "source": [
    "# testing the function recursive_LCS_memoized\n",
    "print(recursive_LCS_memoized(A,B))\n",
    "print(recursive_LCS_memoized(X,Y))\n",
    "print(recursive_LCS_memoized(S1,S2)) # We test this function also for S1 and S2 since we now have much faster \n",
    "# function :) We will print out a longest common subsequnce of S1 and S2 later. Coming soon!"
   ]
  },
  {
   "cell_type": "markdown",
   "metadata": {},
   "source": [
    "Below you can find the bottom up memoized version of finding a longest common subsequence of two given sequences.\n",
    "As in the recursive approach here again we keep a matrix that will contain the values of already solved subproblems. In addition, we keep another matrix that keeps our path, that is, from which cell the current one has been achieved. Obviously, again the running time is **O(m x n)** as we have 2 nested for loops."
   ]
  },
  {
   "cell_type": "code",
   "execution_count": 19,
   "metadata": {
    "collapsed": true
   },
   "outputs": [],
   "source": [
    "def bottom_up_LCS_memoized(A,B):\n",
    "    m = len(A)\n",
    "    n = len(B)\n",
    "    p = np.empty((m+1,n+1),dtype=np.str)# path matrix\n",
    "    direc = np.empty((m+1,n+1),dtype=np.str)\n",
    "    direc[1:,0] = np.array(list(A))\n",
    "    direc[0,1:] = np.array(list(B))\n",
    "    l = np.zeros((m+1,n+1),dtype=int) # the matrix that we keep for taking the values of already solved subproblems\n",
    "    # when needed. Note that l[m][n], at the end of the algorithm, will contain the length of the longest common \n",
    "    # subsequence found. (initially, this matrix is filled with 0s)\n",
    "    for i in range(1,m+1):\n",
    "        for j in range(1,n+1):\n",
    "            if A[i-1]==B[j-1]: \n",
    "                l[i][j] = l[i-1][j-1] + 1\n",
    "                p[i][j] = \"d\" # 'd' stands for main-diagonally up\n",
    "                direc[i][j] = '\\u2196'\n",
    "            elif l[i-1][j]<l[i][j-1]:\n",
    "                l[i][j] = l[i][j-1] \n",
    "                p[i][j] = \"l\" # l stands for left\n",
    "                direc[i][j] = '\\u2190'\n",
    "            elif l[i-1][j]>=l[i][j-1]: \n",
    "                l[i][j] = l[i-1][j] \n",
    "                p[i][j] = \"u\" # stands for up \n",
    "                direc[i][j] = '\\u2191'\n",
    "    return (l,p,direc)"
   ]
  },
  {
   "cell_type": "code",
   "execution_count": 20,
   "metadata": {
    "collapsed": true
   },
   "outputs": [],
   "source": [
    "# testing our function\n",
    "l,p,d = bottom_up_LCS_memoized(A,B)"
   ]
  },
  {
   "cell_type": "code",
   "execution_count": 21,
   "metadata": {},
   "outputs": [
    {
     "name": "stdout",
     "output_type": "stream",
     "text": [
      "[[0 0 0 0 0 0 0]\n",
      " [0 0 0 0 1 1 1]\n",
      " [0 1 1 1 1 2 2]\n",
      " [0 1 1 2 2 2 2]\n",
      " [0 1 1 2 2 3 3]\n",
      " [0 1 2 2 2 3 3]\n",
      " [0 1 2 2 3 3 4]\n",
      " [0 1 2 2 3 4 4]]\n"
     ]
    }
   ],
   "source": [
    "print(l)\n",
    "# So the length of the LCS found is 4 as expected"
   ]
  },
  {
   "cell_type": "code",
   "execution_count": 23,
   "metadata": {},
   "outputs": [
    {
     "name": "stdout",
     "output_type": "stream",
     "text": [
      "[['' 'B' 'D' 'C' 'A' 'B' 'A']\n",
      " ['A' '↑' '↑' '↑' '↖' '←' '↖']\n",
      " ['B' '↖' '←' '←' '↑' '↖' '←']\n",
      " ['C' '↑' '↑' '↖' '←' '↑' '↑']\n",
      " ['B' '↖' '↑' '↑' '↑' '↖' '←']\n",
      " ['D' '↑' '↖' '↑' '↑' '↑' '↑']\n",
      " ['A' '↑' '↑' '↑' '↖' '↑' '↖']\n",
      " ['B' '↖' '↑' '↑' '↑' '↖' '↑']]\n"
     ]
    }
   ],
   "source": [
    "# path\n",
    "print(d)"
   ]
  },
  {
   "cell_type": "markdown",
   "metadata": {},
   "source": [
    "The function **bottom_up_LCS_memoized()** constructed the path matrix, but we need another function **print_LCS** that traverses over the matrix and recovers the LCS. The algorithm is simple: we start from the rightmost bottom cell and check if the value is **d** then we move main-diagonally up concatenating the letter of the strings corresponding to the updated cell. For values **u** and **l** we move recpectively a cell up or left without any concatenation.  "
   ]
  },
  {
   "cell_type": "code",
   "execution_count": 24,
   "metadata": {
    "collapsed": true
   },
   "outputs": [],
   "source": [
    "def print_LCS(p,A,i,j):\n",
    "    if i==0 or j==0:\n",
    "        return\n",
    "    if p[i][j] == 'd':\n",
    "        print_LCS(p,A,i-1,j-1)\n",
    "        print(A[i-1],end='')\n",
    "    elif p[i][j] == 'u': \n",
    "        print_LCS(p,A,i-1,j)\n",
    "    else:\n",
    "        print_LCS(p,A,i,j-1)"
   ]
  },
  {
   "cell_type": "code",
   "execution_count": 25,
   "metadata": {},
   "outputs": [
    {
     "name": "stdout",
     "output_type": "stream",
     "text": [
      "BCBA"
     ]
    }
   ],
   "source": [
    "# printing LCS for A and B using print_LCS\n",
    "print_LCS(p,A,len(A),len(B))"
   ]
  },
  {
   "cell_type": "code",
   "execution_count": 26,
   "metadata": {},
   "outputs": [
    {
     "name": "stdout",
     "output_type": "stream",
     "text": [
      "GATC"
     ]
    }
   ],
   "source": [
    "# printing LCS for X and Y using print_LCS\n",
    "l,p,_ = bottom_up_LCS_memoized(X,Y)\n",
    "print_LCS(p,X,len(X),len(Y))"
   ]
  },
  {
   "cell_type": "code",
   "execution_count": 27,
   "metadata": {},
   "outputs": [
    {
     "name": "stdout",
     "output_type": "stream",
     "text": [
      "GGACTGCGATAAGCTTAGATCCTCTTAA"
     ]
    }
   ],
   "source": [
    "# printing LCS for S1 and S2 using print_LCS. Finally we know one LCS of S1 and S2! :)\n",
    "l,p,_ = bottom_up_LCS_memoized(S1,S2)\n",
    "print_LCS(p,S1,len(S1),len(S2))"
   ]
  },
  {
   "cell_type": "markdown",
   "metadata": {},
   "source": [
    "In the below block of code, you can find the function that edits the input strings to make them interpret the way the LCS is obtained. By interpretebility, we mean that some \"-\"s are placed between the characters of the input strings so that the elements of the LCS found appear in front of each other when the two input sequences are aligned. "
   ]
  },
  {
   "cell_type": "code",
   "execution_count": 28,
   "metadata": {
    "collapsed": true
   },
   "outputs": [],
   "source": [
    "l1 = []\n",
    "l2 = []\n",
    "def find_best_alignment(p,A,B,i,j):\n",
    "    if i==0 or j==0:\n",
    "        if i==0 and j==0:\n",
    "            pass\n",
    "        elif i==0:\n",
    "            l2.append(B[j-1])\n",
    "            l1.append('-')\n",
    "        elif j==0:\n",
    "            l1.append(A[i-1])\n",
    "            l2.append('-')\n",
    "        return\n",
    "    if p[i][j] == 'd':\n",
    "        find_best_alignment(p,A,B,i-1,j-1)\n",
    "        l1.append(A[i-1])\n",
    "        l2.append(B[j-1])\n",
    "    elif p[i][j] == 'u':\n",
    "        find_best_alignment(p,A,B,i-1,j)\n",
    "        l1.append(A[i-1])\n",
    "        l2.append('-')\n",
    "    else:\n",
    "        find_best_alignment(p,A,B,i,j-1)\n",
    "        l1.append('-')\n",
    "        l2.append(B[j-1])"
   ]
  },
  {
   "cell_type": "code",
   "execution_count": 29,
   "metadata": {},
   "outputs": [
    {
     "name": "stdout",
     "output_type": "stream",
     "text": [
      "-G-TGAC-TGCGAT--AA--G---C-T-TAGATC--C-TC-TTAAAAT\n",
      "GGA-GACATGCGATACAAGGGATCCTTGTAGATCTGCGTCTTT--AA-\n"
     ]
    }
   ],
   "source": [
    "# Printing best alignment for S1 and S2\n",
    "find_best_alignment(p,S1,S2,len(S1),len(S2))\n",
    "str1 = ''.join(l1)\n",
    "str2 = ''.join(l2)\n",
    "print(str1)\n",
    "print(str2)\n",
    "l1=[]\n",
    "l2=[]"
   ]
  },
  {
   "cell_type": "markdown",
   "metadata": {},
   "source": [
    "### Needleman-Wunsch algorithm"
   ]
  },
  {
   "cell_type": "markdown",
   "metadata": {},
   "source": [
    "Below you can see our bottom up implementation of Needleman Wunsch algorithm."
   ]
  },
  {
   "cell_type": "code",
   "execution_count": 30,
   "metadata": {
    "collapsed": true
   },
   "outputs": [],
   "source": [
    "# Worst case running time O(m*n), where m = len(A), n = len(B) \n",
    "def bottom_up_Needleman_Wunsch(A,B,match=1,mismatch=-1,gap=-1):\n",
    "    m = len(A)\n",
    "    n = len(B)\n",
    "    p = np.empty((m+1,n+1),dtype=np.str) \n",
    "    direc = np.empty((m+1,n+1),dtype=np.str)\n",
    "    direc[1:,0] = np.array(list(A))\n",
    "    direc[0,1:] = np.array(list(B))\n",
    "    l = np.zeros((m+1,n+1),dtype=int)\n",
    "    l[0,1:] = np.array([gap*i for i in range(1,n+1)],dtype=int)\n",
    "    l[:,0] = np.array([gap*i for i in range(m+1)],dtype=int)\n",
    "    for i in range(1,m+1):\n",
    "        for j in range(1,n+1):\n",
    "            if A[i-1]==B[j-1]:\n",
    "                l[i][j] = l[i-1][j-1] + match\n",
    "                p[i][j] = 'd'\n",
    "                direc[i][j] = '\\u2196'\n",
    "            else:\n",
    "                if l[i-1][j-1] + mismatch > max(l[i][j-1] + gap,l[i-1][j] + gap):\n",
    "                    l[i][j] = l[i-1][j-1] + mismatch\n",
    "                    p[i][j] = 'd'\n",
    "                    direc[i][j] = '\\u2196'\n",
    "                else:\n",
    "                    if l[i][j-1] > l[i-1][j]:\n",
    "                        l[i][j] = l[i][j-1] + gap\n",
    "                        p[i][j] = 'l'\n",
    "                        direc[i][j] = '\\u2190'\n",
    "                    else:\n",
    "                        l[i][j] = l[i-1][j] + gap\n",
    "                        p[i][j] = 'u'  \n",
    "                        direc[i][j] = '\\u2191'\n",
    "    return (l,p,direc)"
   ]
  },
  {
   "cell_type": "code",
   "execution_count": 31,
   "metadata": {
    "collapsed": true
   },
   "outputs": [],
   "source": [
    "l,p,d = bottom_up_Needleman_Wunsch(X,Y)"
   ]
  },
  {
   "cell_type": "code",
   "execution_count": 32,
   "metadata": {},
   "outputs": [
    {
     "name": "stdout",
     "output_type": "stream",
     "text": [
      "[[ 0 -1 -2 -3 -4 -5 -6 -7]\n",
      " [-1  1  0 -1 -2 -3 -4 -5]\n",
      " [-2  0  0  1  0 -1 -2 -3]\n",
      " [-3 -1 -1  0  2  1  0 -1]\n",
      " [-4 -2 -2 -1  1  1  0 -1]\n",
      " [-5 -3 -3 -1  0  0  0 -1]\n",
      " [-6 -4 -2 -2 -1 -1  1  0]\n",
      " [-7 -5 -3 -1 -2 -2  0  0]]\n"
     ]
    }
   ],
   "source": [
    "# As we can see the best possible score is 0 (see the rightmost bottom cell value), given that match=1 and \n",
    "# mismatch=gap=-1\n",
    "print(l)"
   ]
  },
  {
   "cell_type": "code",
   "execution_count": 33,
   "metadata": {},
   "outputs": [
    {
     "name": "stdout",
     "output_type": "stream",
     "text": [
      "[['' 'G' 'C' 'A' 'T' 'G' 'C' 'U']\n",
      " ['G' '↖' '←' '←' '←' '↖' '←' '←']\n",
      " ['A' '↑' '↖' '↖' '←' '←' '←' '←']\n",
      " ['T' '↑' '↑' '↑' '↖' '←' '←' '←']\n",
      " ['T' '↑' '↑' '↑' '↖' '↖' '←' '←']\n",
      " ['A' '↑' '↑' '↖' '↑' '↑' '↖' '←']\n",
      " ['C' '↑' '↖' '↑' '↑' '↑' '↖' '←']\n",
      " ['A' '↑' '↑' '↖' '↑' '↑' '↑' '↖']]\n"
     ]
    }
   ],
   "source": [
    "# path\n",
    "print(d)"
   ]
  },
  {
   "cell_type": "code",
   "execution_count": 34,
   "metadata": {
    "collapsed": true
   },
   "outputs": [],
   "source": [
    "l,_,_ = bottom_up_Needleman_Wunsch(A,B,match=1,mismatch=0,gap=0) \n",
    "# Note that this is equiavlent to just finding LCS of A and B :) since we take match=1 and mismatch=gap=0"
   ]
  },
  {
   "cell_type": "code",
   "execution_count": 36,
   "metadata": {},
   "outputs": [
    {
     "name": "stdout",
     "output_type": "stream",
     "text": [
      "[[0 0 0 0 0 0 0]\n",
      " [0 0 0 0 1 1 1]\n",
      " [0 1 1 1 1 2 2]\n",
      " [0 1 1 2 2 2 2]\n",
      " [0 1 1 2 2 3 3]\n",
      " [0 1 2 2 2 3 3]\n",
      " [0 1 2 2 3 3 4]\n",
      " [0 1 2 2 3 4 4]]\n"
     ]
    }
   ],
   "source": [
    "print(l)"
   ]
  },
  {
   "cell_type": "code",
   "execution_count": 37,
   "metadata": {
    "collapsed": true
   },
   "outputs": [],
   "source": [
    "l,p,d = bottom_up_Needleman_Wunsch(S1,S2)"
   ]
  },
  {
   "cell_type": "code",
   "execution_count": 39,
   "metadata": {},
   "outputs": [
    {
     "name": "stdout",
     "output_type": "stream",
     "text": [
      "[[  0  -1  -2 ..., -45 -46 -47]\n",
      " [ -1   1   0 ..., -43 -44 -45]\n",
      " [ -2   0   0 ..., -41 -42 -43]\n",
      " ..., \n",
      " [-30 -28 -26 ...,   5   7   9]\n",
      " [-31 -29 -27 ...,   4   6   8]\n",
      " [-32 -30 -28 ...,   5   5   7]]\n"
     ]
    }
   ],
   "source": [
    "# we can see that the best possible score is 7 (see the rightmost bottom cell value)\n",
    "print(l)"
   ]
  },
  {
   "cell_type": "code",
   "execution_count": 40,
   "metadata": {},
   "outputs": [
    {
     "name": "stdout",
     "output_type": "stream",
     "text": [
      "[['' 'G' 'A' ..., 'T' 'A' 'A']\n",
      " ['G' '↖' '←' ..., '←' '←' '←']\n",
      " ['T' '↑' '↖' ..., '↖' '←' '←']\n",
      " ..., \n",
      " ['A' '↑' '↖' ..., '↑' '↖' '↖']\n",
      " ['A' '↑' '↖' ..., '↑' '↖' '↖']\n",
      " ['T' '↑' '↑' ..., '↖' '↑' '↑']]\n"
     ]
    }
   ],
   "source": [
    "print(d)"
   ]
  },
  {
   "cell_type": "code",
   "execution_count": 41,
   "metadata": {},
   "outputs": [
    {
     "name": "stdout",
     "output_type": "stream",
     "text": [
      "GT----GAC-TGCGAT--AA--G---C-T-TAGATC--C-TCTTAAAAT\n",
      "GAGGGAGACATGCGATACAAGGGATCCTTGTAGATCTGCGTCTTT-AA-\n"
     ]
    }
   ],
   "source": [
    "# As we can notice we have different alignment in this case for these two sequences compared to when we run this\n",
    "# function when looking at LCS as now mismatch=gap=-1 and not 0\n",
    "find_best_alignment(p,S1,S2,len(S1),len(S2))\n",
    "str1 = ''.join(l1)\n",
    "str2 = ''.join(l2)\n",
    "print(str1)\n",
    "print(str2)\n",
    "l1=[]\n",
    "l2=[]"
   ]
  },
  {
   "cell_type": "markdown",
   "metadata": {
    "collapsed": true
   },
   "source": [
    "### Needleman-Wunsch algo for large sequences "
   ]
  },
  {
   "cell_type": "markdown",
   "metadata": {
    "collapsed": true
   },
   "source": [
    "We will use http://www.bioinformatics.org/sms2/mutate_dna.html to generate DNA sequence and mutate it."
   ]
  },
  {
   "cell_type": "code",
   "execution_count": 55,
   "metadata": {
    "collapsed": true
   },
   "outputs": [],
   "source": [
    "# original DNA sequence\n",
    "Original = 'ATGTCTGATTCGCTAAATCATCCATCGAGTTCTACGGTGCATGCAGATGATGGATTCGAGCCACCAACATCTCCGGAAGACAACAACAAAAAACCGTCTTTAGAACAAATTAAACAGGAAAGAGAAGCGTTGTTTACGGATCTATTCGCAGATCGTCGACGAAGCGCTCGTTCTGTGATTGAAGAAGCTTTCCAAAACGAACTCATGAGTGCTGAACCAGTCCAGCCAAACGTGCCGAATCCACATTCGATTCCCATTCGTTTCCGTCATCAACCAGTTGCTGGACCTGCTCATGATGTTTTCGGAGACGCGGTGCATTCAATTTTTCAAAAAATAATGTCCAGAGGAGTGAACGCGGATTATAGTCATTGGATGTCATATTGGATCGCGTTGGGAATCGACAAAAAAACACAAATGAACTATCATATGAAACCGTTTTGCAAAGATACTTATGCAACTGAAGGCTCCTTAGAAGCGAAACAAACATTTACTGATAAAATCAGGTCAGCTGTTGAGGAAATTATCTGGAAGTCCGCTGAATATTGTGATATTCTTAGCGAGAAGTGGACAGGAATTCATGTGTCGGCCGACCAACTGAAAGGTCAAAGAAATAAGCAAGAAGATCGTTTTGTGGCTTATCCAAATGGACAATACATGAATCGTGGACAGAGTGACATTTCACTTCTTGCGGTGTTCGATGGGCATGGCGGACACGAGTGCTCTCAATATGCAGCTGCTCATTTCTGGGAAGCATGGTCCGATGCTCAACATCATCATTCACAAGATATGAAACTTGACGAACTCCTAGAAAAGGCTCTAGAAACATTGGACGAAAGAATGACAGTCAGAAGTGTTCGAGAATCTTGGAAAGGTGGAACCACTGCTGTCTGCTGTGCTGTTGATTTGAACACTAATCAAATCGCATTTGCCTGGCTTGGAGATTCACCAGGTTACATCATGTCAAACTTGGAGTTCCGCAAATTCACTACTGAACACTCCCCGTCTGACCCGGAGGAATGTCGACGAGTCGAAGAAGTCGGTGGCCAGATTTTTGTGATCGGTGGTGAGCTCCGTGTGAATGGAGTACTCAACCTGACGCGAGCACTAGGAGACGTACCTGGAAGACCAATGATATCCAACAAACCTGATACCTTACTGAAGACGATCGAACCTGCGGATTATCTTGTTTTGTTGGCCTGTGACGGGATTTCTGACGTCTTCAACACTAGTGATTTGTACAATTTGGTTCAGGCTTTTGTCAATGAATATGACGTAGAAGATTATCACGAACTTGCACGCTACATTTGCAATCAAGCAGTTTCAGCTGGAAGTGCTGACAATGTGACAGTAGTTATAGGTTTCCTCCGTCCACCAGAAGACGTTTGGCGTGTAATGAAAACAGACTCGGATGATGAAGAGAGCGAGCTCGAGGAAGAAGATGACAATGAATAG'"
   ]
  },
  {
   "cell_type": "code",
   "execution_count": 56,
   "metadata": {},
   "outputs": [
    {
     "name": "stdout",
     "output_type": "stream",
     "text": [
      "1452\n"
     ]
    }
   ],
   "source": [
    "print(len(Original))"
   ]
  },
  {
   "cell_type": "code",
   "execution_count": 57,
   "metadata": {},
   "outputs": [
    {
     "name": "stdout",
     "output_type": "stream",
     "text": [
      "ATGTCTGATTCGCTAAATCATCCATCGAGTTCTACGGTGCATGCAGATGATGGATTCGAGCCACCAACATCTCCGGAAGACAACAACAAAAAACCGTCTTTAGAACAAATTAAACAGGAAAGAGAAGCGTTGTTTACGGATCTATTCGCAGATCGTCGACGAAGCGCTCGTTCTGTGATTGAAGAAGCTTTCCAAAACGAACTCATGAGTGCTGAACCAGTCCAGCCAAACGTGCCGAATCCACATTCGATTCCCATTCGTTTCCGTCATCAACCAGTTGCTGGACCTGCTCATGATGTTTTCGGAGACGCGGTGCATTCAATTTTTCAAAAAATAATGTCCAGAGGAGTGAACGCGGATTATAGTCATTGGATGTCATATTGGATCGCGTTGGGAATCGACAAAAAAACACAAATGAACTATCATATGAAACCGTTTTGCAAAGATACTTATGCAACTGAAGGCTCCTTAGAAGCGAAACAAACATTTACTGATAAAATCAGGTCAGCTGTTGAGGAAATTATCTGGAAGTCCGCTGAATATTGTGATATTCTTAGCGAGAAGTGGACAGGAATTCATGTGTCGGCCGACCAACTGAAAGGTCAAAGAAATAAGCAAGAAGATCGTTTTGTGGCTTATCCAAATGGACAATACATGAATCGTGGACAGAGTGACATTTCACTTCTTGCGGTGTTCGATGGGCATGGCGGACACGAGTGCTCTCAATATGCAGCTGCTCATTTCTGGGAAGCATGGTCCGATGCTCAACATCATCATTCACAAGATATGAAACTTGACGAACTCCTAGAAAAGGCTCTAGAAACATTGGACGAAAGAATGACAGTCAGAAGTGTTCGAGAATCTTGGAAAGGTGGAACCACTGCTGTCTGCTGTGCTGTTGATTTGAACACTAATCAAATCGCATTTGCCTGGCTTGGAGATTCACCAGGTTACATCATGTCAAACTTGGAGTTCCGCAAATTCACTACTGAACACTCCCCGTCTGACCCGGAGGAATGTCGACGAGTCGAAGAAGTCGGTGGCCAGATTTTTGTGATCGGTGGTGAGCTCCGTGTGAATGGAGTACTCAACCTGACGCGAGCACTAGGAGACGTACCTGGAAGACCAATGATATCCAACAAACCTGATACCTTACTGAAGACGATCGAACCTGCGGATTATCTTGTTTTGTTGGCCTGTGACGGGATTTCTGACGTCTTCAACACTAGTGATTTGTACAATTTGGTTCAGGCTTTTGTCAATGAATATGACGTAGAAGATTATCACGAACTTGCACGCTACATTTGCAATCAAGCAGTTTCAGCTGGAAGTGCTGACAATGTGACAGTAGTTATAGGTTTCCTCCGTCCACCAGAAGACGTTTGGCGTGTAATGAAAACAGACTCGGATGATGAAGAGAGCGAGCTCGAGGAAGAAGATGACAATGAATAG\n"
     ]
    }
   ],
   "source": [
    "print(Original)"
   ]
  },
  {
   "cell_type": "code",
   "execution_count": 58,
   "metadata": {
    "collapsed": true
   },
   "outputs": [],
   "source": [
    "# mutated sequence\n",
    "Mutated = 'ATGACTGATTTGTTAAACCATCAAACGCGTCCCAGGGTGCATGCAGATGATGGATTGAAGCCACCGAAATTTCCGGTAAACAAGAACAAGAAACCGTCTCTAGAACAAATTAAACAGGAAAAACAGGCGTTGATAACGGTTGTTTTTGTTGGTCGTCGACGGAGCGCTCGTACTAGGATTGGAGACGCTTTCCGAAACGAAATCATGGGTGCAGAACCCGTCTCGCCAAACGTGCCGAAACCACGTTCGAGTCCCATTCGTTTCCGAAATCACACATATACCGTACCTGTTCATGATGTTTTCGGAGAGACGGTGCACTAACTGCTTCAAAAAGTAATGTCCATAGTAGCGAACGTTGGTTATAGTCATTGGATGTCGCATTGGTATGCGATGGGAAGCCACGAAATGATACAAATGAACTATGATATGAAACCGTCTTGCAAAGATACTTAGGCAACTGAAGGCTCCTTAGAATCGAAACAAACATTTATTGAAAAACTCGTGTTAGCTGTTGCGGAAATTAGTAGGAAGTCGGGTGAAAATTGCGAGATTCTTAGATAGCCGTAGACAGGAACTCAAGTTTCGGTCGACCAACTGAAGGGTCAAAGTAATAAGCAAGAATAACGTTTGGTGCCTTATCCGACTGGACCAGACATGTACCGTGGACTGACTGACCTATCACGACTTGCGGTGGCCGATGAGAATGGCGGTCACGAGTCCTCTCAGTCCGCAGCTGCTCCTTTCTGAGAAGCATGGTCCGATACTCGACATCATCATTTTCGAGATTTGAAACTTGACGGACGCCTAGAAAAGGCTCTAGAAAAATTGGACCAGCGAATGACAGTCTGTAGTATTCGAAAACTTGGGAAAGGAGGAACCCCTTCTGTCAGCTGTGCTGTCTATTTGATCACTAATCAAATAACATAGGCCTAGCATGAAGATTCAACAGGTGAGGTGACCTCAAAATTGGAGCTCCGCAAATTCACTATTTAACACTCCCAGTCTGACGCGGAGGAATGTCGAGGAGTCGAATAAGACGGTGATCAGATTTTTGTGATCGGTGGTGAGCTCCGTGTTAATGGGGTACTCAACCTGACGCGTGCACACGGAGACGTGCCTGGCAGCCCAGTGCTATTCAACAAACCTTATACCTTACTGAAGACGATTGAACCTGCGTATTATTTTGTTTTGTTGGCCTCTGACTGGATTTCTGACTTCTTTAGCATTAGTGATCTGTATAGTTTTTTGCGGGCTTTATTCAGCGAATACCACGTAGAAGATTATCAAGAACTTGAACGCTCCATTTTCAAGGAAGTCGTGTCAGTTGGCAGTGCAGACAATGTGACAGTACTTACTAGGCTCCTCTGTCCACCAGATGACGTTTGGCGTGTAATGGAAACAGATTCGTATGATGAAGAAATCGAGGTCGTAGAAGAGGATGAGAATGATTAC'"
   ]
  },
  {
   "cell_type": "code",
   "execution_count": 59,
   "metadata": {},
   "outputs": [
    {
     "name": "stdout",
     "output_type": "stream",
     "text": [
      "1452\n"
     ]
    }
   ],
   "source": [
    "print(len(Mutated))"
   ]
  },
  {
   "cell_type": "code",
   "execution_count": 60,
   "metadata": {},
   "outputs": [
    {
     "name": "stdout",
     "output_type": "stream",
     "text": [
      "ATGACTGATTTGTTAAACCATCAAACGCGTCCCAGGGTGCATGCAGATGATGGATTGAAGCCACCGAAATTTCCGGTAAACAAGAACAAGAAACCGTCTCTAGAACAAATTAAACAGGAAAAACAGGCGTTGATAACGGTTGTTTTTGTTGGTCGTCGACGGAGCGCTCGTACTAGGATTGGAGACGCTTTCCGAAACGAAATCATGGGTGCAGAACCCGTCTCGCCAAACGTGCCGAAACCACGTTCGAGTCCCATTCGTTTCCGAAATCACACATATACCGTACCTGTTCATGATGTTTTCGGAGAGACGGTGCACTAACTGCTTCAAAAAGTAATGTCCATAGTAGCGAACGTTGGTTATAGTCATTGGATGTCGCATTGGTATGCGATGGGAAGCCACGAAATGATACAAATGAACTATGATATGAAACCGTCTTGCAAAGATACTTAGGCAACTGAAGGCTCCTTAGAATCGAAACAAACATTTATTGAAAAACTCGTGTTAGCTGTTGCGGAAATTAGTAGGAAGTCGGGTGAAAATTGCGAGATTCTTAGATAGCCGTAGACAGGAACTCAAGTTTCGGTCGACCAACTGAAGGGTCAAAGTAATAAGCAAGAATAACGTTTGGTGCCTTATCCGACTGGACCAGACATGTACCGTGGACTGACTGACCTATCACGACTTGCGGTGGCCGATGAGAATGGCGGTCACGAGTCCTCTCAGTCCGCAGCTGCTCCTTTCTGAGAAGCATGGTCCGATACTCGACATCATCATTTTCGAGATTTGAAACTTGACGGACGCCTAGAAAAGGCTCTAGAAAAATTGGACCAGCGAATGACAGTCTGTAGTATTCGAAAACTTGGGAAAGGAGGAACCCCTTCTGTCAGCTGTGCTGTCTATTTGATCACTAATCAAATAACATAGGCCTAGCATGAAGATTCAACAGGTGAGGTGACCTCAAAATTGGAGCTCCGCAAATTCACTATTTAACACTCCCAGTCTGACGCGGAGGAATGTCGAGGAGTCGAATAAGACGGTGATCAGATTTTTGTGATCGGTGGTGAGCTCCGTGTTAATGGGGTACTCAACCTGACGCGTGCACACGGAGACGTGCCTGGCAGCCCAGTGCTATTCAACAAACCTTATACCTTACTGAAGACGATTGAACCTGCGTATTATTTTGTTTTGTTGGCCTCTGACTGGATTTCTGACTTCTTTAGCATTAGTGATCTGTATAGTTTTTTGCGGGCTTTATTCAGCGAATACCACGTAGAAGATTATCAAGAACTTGAACGCTCCATTTTCAAGGAAGTCGTGTCAGTTGGCAGTGCAGACAATGTGACAGTACTTACTAGGCTCCTCTGTCCACCAGATGACGTTTGGCGTGTAATGGAAACAGATTCGTATGATGAAGAAATCGAGGTCGTAGAAGAGGATGAGAATGATTAC\n"
     ]
    }
   ],
   "source": [
    "print(Mutated)"
   ]
  },
  {
   "cell_type": "code",
   "execution_count": 62,
   "metadata": {},
   "outputs": [
    {
     "name": "stdout",
     "output_type": "stream",
     "text": [
      "Please wait...\n",
      "Done!\n"
     ]
    }
   ],
   "source": [
    "print(\"Please wait...\")\n",
    "l,_,_ = bottom_up_Needleman_Wunsch(Original,Mutated,match=2,mismatch=-1,gap=0)\n",
    "print(\"Done!\")"
   ]
  },
  {
   "cell_type": "code",
   "execution_count": 63,
   "metadata": {},
   "outputs": [
    {
     "name": "stdout",
     "output_type": "stream",
     "text": [
      "[[   0    0    0 ...,    0    0    0]\n",
      " [   0    2    2 ...,    2    2    2]\n",
      " [   0    2    4 ...,    4    4    4]\n",
      " ..., \n",
      " [   0    2    4 ..., 2442 2442 2442]\n",
      " [   0    2    4 ..., 2442 2444 2444]\n",
      " [   0    2    4 ..., 2442 2444 2444]]\n"
     ]
    }
   ],
   "source": [
    "# As we can see, if give scores match=2, mismatch=-1, and gap=0, the best score will be 2444\n",
    "print(l)"
   ]
  },
  {
   "cell_type": "code",
   "execution_count": 64,
   "metadata": {},
   "outputs": [
    {
     "name": "stdout",
     "output_type": "stream",
     "text": [
      "Please wait...\n",
      "Done!\n"
     ]
    }
   ],
   "source": [
    "print(\"Please wait...\")\n",
    "l,_,_ = bottom_up_Needleman_Wunsch(Original,Mutated,match=1,mismatch=-2,gap=-1)\n",
    "print(\"Done!\")"
   ]
  },
  {
   "cell_type": "code",
   "execution_count": 65,
   "metadata": {},
   "outputs": [
    {
     "name": "stdout",
     "output_type": "stream",
     "text": [
      "[[    0    -1    -2 ..., -1450 -1451 -1452]\n",
      " [   -1     1     0 ..., -1448 -1449 -1450]\n",
      " [   -2     0     2 ..., -1446 -1447 -1448]\n",
      " ..., \n",
      " [-1450 -1448 -1446 ...,   763   762   761]\n",
      " [-1451 -1449 -1447 ...,   762   764   763]\n",
      " [-1452 -1450 -1448 ...,   761   763   762]]\n"
     ]
    }
   ],
   "source": [
    "# And if give scores match=1, mismatch=-2, and gap=-1, the best score will be 762\n",
    "print(l)"
   ]
  },
  {
   "cell_type": "code",
   "execution_count": null,
   "metadata": {
    "collapsed": true
   },
   "outputs": [],
   "source": []
  }
 ],
 "metadata": {
  "kernelspec": {
   "display_name": "Python 3",
   "language": "python",
   "name": "python3"
  },
  "language_info": {
   "codemirror_mode": {
    "name": "ipython",
    "version": 3
   },
   "file_extension": ".py",
   "mimetype": "text/x-python",
   "name": "python",
   "nbconvert_exporter": "python",
   "pygments_lexer": "ipython3",
   "version": "3.6.3"
  }
 },
 "nbformat": 4,
 "nbformat_minor": 2
}
